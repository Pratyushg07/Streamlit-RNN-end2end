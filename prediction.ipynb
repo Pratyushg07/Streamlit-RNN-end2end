{
 "cells": [
  {
   "cell_type": "code",
   "execution_count": 191,
   "metadata": {},
   "outputs": [],
   "source": [
    "from tensorflow.keras.models import load_model\n",
    "from tensorflow.keras.datasets import imdb\n",
    "from tensorflow.keras.preprocessing import sequence"
   ]
  },
  {
   "cell_type": "code",
   "execution_count": 192,
   "metadata": {},
   "outputs": [],
   "source": [
    "word_index=imdb.get_word_index()\n",
    "word_index\n",
    "reverse_word_index={ value:key for key,value in word_index.items()}"
   ]
  },
  {
   "cell_type": "code",
   "execution_count": 193,
   "metadata": {},
   "outputs": [
    {
     "name": "stderr",
     "output_type": "stream",
     "text": [
      "WARNING:absl:Compiled the loaded model, but the compiled metrics have yet to be built. `model.compile_metrics` will be empty until you train or evaluate the model.\n"
     ]
    }
   ],
   "source": [
    "model=load_model('model_rnn.h5')"
   ]
  },
  {
   "cell_type": "code",
   "execution_count": 194,
   "metadata": {},
   "outputs": [
    {
     "data": {
      "text/html": [
       "<pre style=\"white-space:pre;overflow-x:auto;line-height:normal;font-family:Menlo,'DejaVu Sans Mono',consolas,'Courier New',monospace\"><span style=\"font-weight: bold\">Model: \"sequential_2\"</span>\n",
       "</pre>\n"
      ],
      "text/plain": [
       "\u001b[1mModel: \"sequential_2\"\u001b[0m\n"
      ]
     },
     "metadata": {},
     "output_type": "display_data"
    },
    {
     "data": {
      "text/html": [
       "<pre style=\"white-space:pre;overflow-x:auto;line-height:normal;font-family:Menlo,'DejaVu Sans Mono',consolas,'Courier New',monospace\">┏━━━━━━━━━━━━━━━━━━━━━━━━━━━━━━━━━┳━━━━━━━━━━━━━━━━━━━━━━━━┳━━━━━━━━━━━━━━━┓\n",
       "┃<span style=\"font-weight: bold\"> Layer (type)                    </span>┃<span style=\"font-weight: bold\"> Output Shape           </span>┃<span style=\"font-weight: bold\">       Param # </span>┃\n",
       "┡━━━━━━━━━━━━━━━━━━━━━━━━━━━━━━━━━╇━━━━━━━━━━━━━━━━━━━━━━━━╇━━━━━━━━━━━━━━━┩\n",
       "│ embedding_2 (<span style=\"color: #0087ff; text-decoration-color: #0087ff\">Embedding</span>)         │ (<span style=\"color: #00d7ff; text-decoration-color: #00d7ff\">None</span>, <span style=\"color: #00af00; text-decoration-color: #00af00\">500</span>, <span style=\"color: #00af00; text-decoration-color: #00af00\">128</span>)       │     <span style=\"color: #00af00; text-decoration-color: #00af00\">1,280,000</span> │\n",
       "├─────────────────────────────────┼────────────────────────┼───────────────┤\n",
       "│ simple_rnn_2 (<span style=\"color: #0087ff; text-decoration-color: #0087ff\">SimpleRNN</span>)        │ (<span style=\"color: #00d7ff; text-decoration-color: #00d7ff\">None</span>, <span style=\"color: #00af00; text-decoration-color: #00af00\">128</span>)            │        <span style=\"color: #00af00; text-decoration-color: #00af00\">32,896</span> │\n",
       "├─────────────────────────────────┼────────────────────────┼───────────────┤\n",
       "│ dense_2 (<span style=\"color: #0087ff; text-decoration-color: #0087ff\">Dense</span>)                 │ (<span style=\"color: #00d7ff; text-decoration-color: #00d7ff\">None</span>, <span style=\"color: #00af00; text-decoration-color: #00af00\">1</span>)              │           <span style=\"color: #00af00; text-decoration-color: #00af00\">129</span> │\n",
       "└─────────────────────────────────┴────────────────────────┴───────────────┘\n",
       "</pre>\n"
      ],
      "text/plain": [
       "┏━━━━━━━━━━━━━━━━━━━━━━━━━━━━━━━━━┳━━━━━━━━━━━━━━━━━━━━━━━━┳━━━━━━━━━━━━━━━┓\n",
       "┃\u001b[1m \u001b[0m\u001b[1mLayer (type)                   \u001b[0m\u001b[1m \u001b[0m┃\u001b[1m \u001b[0m\u001b[1mOutput Shape          \u001b[0m\u001b[1m \u001b[0m┃\u001b[1m \u001b[0m\u001b[1m      Param #\u001b[0m\u001b[1m \u001b[0m┃\n",
       "┡━━━━━━━━━━━━━━━━━━━━━━━━━━━━━━━━━╇━━━━━━━━━━━━━━━━━━━━━━━━╇━━━━━━━━━━━━━━━┩\n",
       "│ embedding_2 (\u001b[38;5;33mEmbedding\u001b[0m)         │ (\u001b[38;5;45mNone\u001b[0m, \u001b[38;5;34m500\u001b[0m, \u001b[38;5;34m128\u001b[0m)       │     \u001b[38;5;34m1,280,000\u001b[0m │\n",
       "├─────────────────────────────────┼────────────────────────┼───────────────┤\n",
       "│ simple_rnn_2 (\u001b[38;5;33mSimpleRNN\u001b[0m)        │ (\u001b[38;5;45mNone\u001b[0m, \u001b[38;5;34m128\u001b[0m)            │        \u001b[38;5;34m32,896\u001b[0m │\n",
       "├─────────────────────────────────┼────────────────────────┼───────────────┤\n",
       "│ dense_2 (\u001b[38;5;33mDense\u001b[0m)                 │ (\u001b[38;5;45mNone\u001b[0m, \u001b[38;5;34m1\u001b[0m)              │           \u001b[38;5;34m129\u001b[0m │\n",
       "└─────────────────────────────────┴────────────────────────┴───────────────┘\n"
      ]
     },
     "metadata": {},
     "output_type": "display_data"
    },
    {
     "data": {
      "text/html": [
       "<pre style=\"white-space:pre;overflow-x:auto;line-height:normal;font-family:Menlo,'DejaVu Sans Mono',consolas,'Courier New',monospace\"><span style=\"font-weight: bold\"> Total params: </span><span style=\"color: #00af00; text-decoration-color: #00af00\">1,313,027</span> (5.01 MB)\n",
       "</pre>\n"
      ],
      "text/plain": [
       "\u001b[1m Total params: \u001b[0m\u001b[38;5;34m1,313,027\u001b[0m (5.01 MB)\n"
      ]
     },
     "metadata": {},
     "output_type": "display_data"
    },
    {
     "data": {
      "text/html": [
       "<pre style=\"white-space:pre;overflow-x:auto;line-height:normal;font-family:Menlo,'DejaVu Sans Mono',consolas,'Courier New',monospace\"><span style=\"font-weight: bold\"> Trainable params: </span><span style=\"color: #00af00; text-decoration-color: #00af00\">1,313,025</span> (5.01 MB)\n",
       "</pre>\n"
      ],
      "text/plain": [
       "\u001b[1m Trainable params: \u001b[0m\u001b[38;5;34m1,313,025\u001b[0m (5.01 MB)\n"
      ]
     },
     "metadata": {},
     "output_type": "display_data"
    },
    {
     "data": {
      "text/html": [
       "<pre style=\"white-space:pre;overflow-x:auto;line-height:normal;font-family:Menlo,'DejaVu Sans Mono',consolas,'Courier New',monospace\"><span style=\"font-weight: bold\"> Non-trainable params: </span><span style=\"color: #00af00; text-decoration-color: #00af00\">0</span> (0.00 B)\n",
       "</pre>\n"
      ],
      "text/plain": [
       "\u001b[1m Non-trainable params: \u001b[0m\u001b[38;5;34m0\u001b[0m (0.00 B)\n"
      ]
     },
     "metadata": {},
     "output_type": "display_data"
    },
    {
     "data": {
      "text/html": [
       "<pre style=\"white-space:pre;overflow-x:auto;line-height:normal;font-family:Menlo,'DejaVu Sans Mono',consolas,'Courier New',monospace\"><span style=\"font-weight: bold\"> Optimizer params: </span><span style=\"color: #00af00; text-decoration-color: #00af00\">2</span> (12.00 B)\n",
       "</pre>\n"
      ],
      "text/plain": [
       "\u001b[1m Optimizer params: \u001b[0m\u001b[38;5;34m2\u001b[0m (12.00 B)\n"
      ]
     },
     "metadata": {},
     "output_type": "display_data"
    }
   ],
   "source": [
    "model.summary()"
   ]
  },
  {
   "cell_type": "code",
   "execution_count": 195,
   "metadata": {},
   "outputs": [
    {
     "data": {
      "text/plain": [
       "[array([[ 0.22426766, -0.08328494,  0.3266852 , ..., -0.256276  ,\n",
       "          0.2810711 , -0.29233652],\n",
       "        [-0.01077222, -0.05844592,  0.03183246, ..., -0.03736133,\n",
       "          0.05553425,  0.04870655],\n",
       "        [-0.04134588,  0.02459418, -0.02717435, ..., -0.00360174,\n",
       "          0.00036609, -0.0030201 ],\n",
       "        ...,\n",
       "        [-0.00292353, -0.01145399, -0.00609143, ..., -0.06662159,\n",
       "         -0.08715394,  0.1036716 ],\n",
       "        [-0.0269226 , -0.08007213,  0.03055881, ...,  0.0659963 ,\n",
       "         -0.03645743, -0.0260925 ],\n",
       "        [-0.0497555 , -0.04427031,  0.04875822, ...,  0.05151374,\n",
       "          0.03435803,  0.04951257]], dtype=float32),\n",
       " array([[-0.02114425, -0.04266585,  0.0823695 , ..., -0.1619715 ,\n",
       "          0.09709823,  0.11897502],\n",
       "        [-0.07028688, -0.07533108,  0.1146358 , ...,  0.02353889,\n",
       "         -0.04250289,  0.00332194],\n",
       "        [ 0.10966228, -0.00028681, -0.02609028, ..., -0.09870762,\n",
       "          0.04600832, -0.10389297],\n",
       "        ...,\n",
       "        [ 0.02566158, -0.11961737,  0.10561918, ...,  0.1482703 ,\n",
       "         -0.05619906,  0.10754748],\n",
       "        [-0.09116583,  0.09334144, -0.13367976, ...,  0.03390632,\n",
       "          0.00986425,  0.05815757],\n",
       "        [ 0.0251424 , -0.09186415, -0.06047445, ..., -0.02222536,\n",
       "         -0.06823622,  0.0959145 ]], dtype=float32),\n",
       " array([[ 0.17120744, -0.01502212, -0.05059835, ..., -0.02283117,\n",
       "          0.02321361,  0.00488427],\n",
       "        [-0.12079384,  0.01052781,  0.06636987, ...,  0.03579488,\n",
       "         -0.00217125, -0.10161036],\n",
       "        [ 0.05517656,  0.11979693, -0.0717066 , ..., -0.07240033,\n",
       "         -0.01784524, -0.2083253 ],\n",
       "        ...,\n",
       "        [ 0.0688111 , -0.01048879, -0.06400699, ...,  0.04624539,\n",
       "          0.0942544 ,  0.06961695],\n",
       "        [ 0.14600763, -0.15869258,  0.00088678, ...,  0.10694657,\n",
       "         -0.05040609,  0.07982915],\n",
       "        [-0.11068521, -0.11807677,  0.04735645, ...,  0.01523507,\n",
       "          0.03217646, -0.1906799 ]], dtype=float32),\n",
       " array([ 1.12018296e-02,  1.03929108e-02,  1.11867860e-02, -1.52072520e-03,\n",
       "        -3.35820904e-03,  1.63346790e-02,  1.73785519e-02, -8.55113845e-03,\n",
       "         2.10722117e-03,  1.40870735e-03,  7.87035469e-03, -5.56827383e-03,\n",
       "        -1.20847365e-02,  2.38448605e-02, -1.75395980e-02,  5.84577536e-03,\n",
       "        -7.37078628e-03, -2.77711224e-04, -2.91494727e-02, -2.44517494e-02,\n",
       "        -3.48392036e-03,  7.81772425e-04, -1.40843391e-02, -1.43404501e-02,\n",
       "        -1.07790774e-03, -2.87125781e-02, -4.32764320e-03, -1.11559602e-02,\n",
       "        -6.54867617e-03, -1.03008794e-02,  1.38070568e-01, -3.07411049e-03,\n",
       "        -8.43266584e-03, -1.66893173e-02, -1.28513575e-02,  5.94771467e-03,\n",
       "         1.68079417e-02,  1.06057851e-02, -1.02090696e-02, -2.21372060e-02,\n",
       "         4.71270829e-03,  1.56656168e-02,  1.06519349e-02,  8.13849177e-03,\n",
       "         3.32819223e-02, -2.19487622e-02, -1.89863250e-03,  3.32631283e-02,\n",
       "         3.05680721e-03, -6.88184658e-03, -9.07171983e-03, -1.33970345e-03,\n",
       "        -2.04038061e-03, -2.22155210e-02, -2.46082619e-02, -1.33666219e-02,\n",
       "         1.52660506e-02,  1.14217199e-01, -1.82161611e-02,  1.44910850e-02,\n",
       "        -2.30140146e-02,  8.96166451e-03,  1.41270040e-03,  1.33837080e-02,\n",
       "         1.41326496e-02, -3.71339993e-05,  8.76227207e-03,  4.07862524e-03,\n",
       "        -2.10061427e-02,  1.82435829e-02, -2.72444598e-02, -2.40709702e-03,\n",
       "        -7.35121639e-03,  1.82477292e-02, -8.61525163e-03, -1.94516394e-03,\n",
       "        -5.18142013e-03, -5.15977293e-03, -1.68462540e-03,  2.23101247e-02,\n",
       "         8.47281888e-03, -4.98619396e-03, -5.22213057e-03,  1.76051613e-02,\n",
       "         1.43347327e-02, -1.81749742e-02, -2.37241313e-02,  1.03258137e-02,\n",
       "         8.23556818e-03,  1.44658126e-02,  2.85729603e-03, -1.76447220e-02,\n",
       "        -1.92941353e-03,  6.11694157e-03, -3.52013065e-03,  1.36104487e-02,\n",
       "        -2.05610369e-04, -1.73922535e-02,  1.06816571e-02, -3.77010787e-03,\n",
       "         7.90049788e-03, -1.25265662e-02, -2.82709319e-02, -5.78218186e-03,\n",
       "        -2.31033377e-02,  6.02763472e-03,  1.38317961e-02, -1.38111422e-02,\n",
       "        -1.30225094e-02,  1.69626698e-02, -1.83652136e-02,  1.07954079e-02,\n",
       "        -1.33215655e-02, -1.54213831e-02,  3.96548625e-04,  1.17511842e-02,\n",
       "        -5.17366221e-03, -1.75181264e-03,  5.65131754e-03, -8.20190180e-03,\n",
       "         2.09809672e-02,  4.78514144e-03, -2.77618244e-02,  1.50674358e-02,\n",
       "         3.53659899e-03,  1.07353982e-02,  1.84292253e-02,  1.94879826e-02],\n",
       "       dtype=float32),\n",
       " array([[ 0.92254263],\n",
       "        [ 0.12126585],\n",
       "        [ 0.10564519],\n",
       "        [-0.15801695],\n",
       "        [ 0.01329772],\n",
       "        [-0.05101363],\n",
       "        [ 0.1719801 ],\n",
       "        [-0.22319956],\n",
       "        [ 0.19684425],\n",
       "        [-0.07091463],\n",
       "        [-0.12342323],\n",
       "        [ 0.049679  ],\n",
       "        [ 0.05400699],\n",
       "        [ 0.15716526],\n",
       "        [-0.43639517],\n",
       "        [ 0.1291612 ],\n",
       "        [-0.2072545 ],\n",
       "        [ 0.20968644],\n",
       "        [-0.11326536],\n",
       "        [-0.3365941 ],\n",
       "        [ 0.02954407],\n",
       "        [ 0.17308782],\n",
       "        [ 0.11579907],\n",
       "        [-0.12839153],\n",
       "        [-0.16145323],\n",
       "        [-0.09659699],\n",
       "        [-0.11759178],\n",
       "        [ 0.16277292],\n",
       "        [ 0.03918988],\n",
       "        [ 0.06667033],\n",
       "        [-0.19148353],\n",
       "        [ 0.19686463],\n",
       "        [-0.01682371],\n",
       "        [ 0.04203073],\n",
       "        [ 0.09347605],\n",
       "        [ 0.03942452],\n",
       "        [ 0.16245857],\n",
       "        [-0.19819815],\n",
       "        [-0.00633704],\n",
       "        [ 0.09957229],\n",
       "        [ 0.04934869],\n",
       "        [ 0.18782002],\n",
       "        [ 0.04756578],\n",
       "        [ 0.74344313],\n",
       "        [ 0.16072793],\n",
       "        [ 0.1945072 ],\n",
       "        [-0.22008838],\n",
       "        [-0.28157574],\n",
       "        [ 0.12463745],\n",
       "        [-0.02807734],\n",
       "        [-0.20645474],\n",
       "        [-0.13675688],\n",
       "        [ 0.7029119 ],\n",
       "        [ 0.02848253],\n",
       "        [-0.23479943],\n",
       "        [-0.0545956 ],\n",
       "        [ 0.02959767],\n",
       "        [-0.16455889],\n",
       "        [ 0.01016114],\n",
       "        [ 0.1718326 ],\n",
       "        [ 0.01986323],\n",
       "        [ 0.13842931],\n",
       "        [-0.23175679],\n",
       "        [ 0.13434634],\n",
       "        [ 0.090147  ],\n",
       "        [ 0.09464861],\n",
       "        [ 0.01712559],\n",
       "        [ 0.04985863],\n",
       "        [ 0.15515758],\n",
       "        [-0.17131598],\n",
       "        [-0.01415011],\n",
       "        [-0.12267697],\n",
       "        [ 0.00763193],\n",
       "        [ 0.03502426],\n",
       "        [ 0.08317083],\n",
       "        [-0.17857501],\n",
       "        [-0.01795501],\n",
       "        [-0.06094662],\n",
       "        [-0.12831277],\n",
       "        [ 0.13329911],\n",
       "        [ 0.23538585],\n",
       "        [ 0.12811138],\n",
       "        [-0.15818645],\n",
       "        [ 0.14158939],\n",
       "        [-0.340091  ],\n",
       "        [ 0.7239849 ],\n",
       "        [ 0.02881281],\n",
       "        [ 0.19762377],\n",
       "        [ 0.30970472],\n",
       "        [ 0.09017587],\n",
       "        [-0.16988517],\n",
       "        [-0.03257162],\n",
       "        [-0.04456335],\n",
       "        [ 0.4753024 ],\n",
       "        [-0.11557632],\n",
       "        [-0.21315664],\n",
       "        [-0.07160015],\n",
       "        [ 0.02802075],\n",
       "        [ 0.03728224],\n",
       "        [-0.03773991],\n",
       "        [-0.17236067],\n",
       "        [ 0.22859032],\n",
       "        [ 0.06128927],\n",
       "        [ 0.02978125],\n",
       "        [ 0.16169523],\n",
       "        [ 0.04795583],\n",
       "        [ 0.65116173],\n",
       "        [ 0.24371243],\n",
       "        [-0.08338794],\n",
       "        [ 0.05543473],\n",
       "        [-0.13393399],\n",
       "        [ 0.07344513],\n",
       "        [ 0.16400787],\n",
       "        [ 0.01647798],\n",
       "        [-0.20719086],\n",
       "        [-0.44443294],\n",
       "        [ 0.5638099 ],\n",
       "        [-0.03517444],\n",
       "        [-0.1206165 ],\n",
       "        [-0.2321211 ],\n",
       "        [ 0.13202736],\n",
       "        [ 0.19852346],\n",
       "        [ 0.03482648],\n",
       "        [ 0.22647578],\n",
       "        [-0.05538834],\n",
       "        [ 0.24397749],\n",
       "        [-0.07192395],\n",
       "        [-0.12237961]], dtype=float32),\n",
       " array([0.25251937], dtype=float32)]"
      ]
     },
     "execution_count": 195,
     "metadata": {},
     "output_type": "execute_result"
    }
   ],
   "source": [
    "model.get_weights()"
   ]
  },
  {
   "cell_type": "code",
   "execution_count": 196,
   "metadata": {},
   "outputs": [],
   "source": [
    "def decode_review(encoded_review):\n",
    "    decoded_review=' '.join([word_index.get(i-3,'?') for i in encoded_review])\n",
    "    return decode_review"
   ]
  },
  {
   "cell_type": "code",
   "execution_count": 197,
   "metadata": {},
   "outputs": [],
   "source": [
    "def preprocess_review(text):\n",
    "    words=text.lower().split()\n",
    "    encoded_review=[word_index.get(word,2)+3 for word in words]\n",
    "    padded_review= sequence.pad_sequences([encoded_review],padding='pre',maxlen=500)\n",
    "    return padded_review"
   ]
  },
  {
   "cell_type": "code",
   "execution_count": 198,
   "metadata": {},
   "outputs": [],
   "source": [
    "def predict_sentiment(review):\n",
    "    encoded_review=preprocess_review(review)\n",
    "    prediction=model.predict(encoded_review)\n",
    "    sentiment='Positive' if prediction[0][0]>0.5 else 'Negative'\n",
    "    return sentiment,prediction[0][0]"
   ]
  },
  {
   "cell_type": "code",
   "execution_count": 216,
   "metadata": {},
   "outputs": [],
   "source": [
    "example_review=\"this film was just brilliant casting location scenery story direction everyone's really suited the part they played and you could just imagine being there robert ? is an amazing actor and now the same being director ? father came from the same scottish island as myself so i loved the fact there was a real connection with this film the witty remarks throughout the film were great it was just brilliant so much that i bought the film as soon as it was released for ? and would recommend it to everyone to watch and the fly fishing was amazing really cried at the end it was so sad and you know what they say if you cry at a film it must have been good and this definitely was also ? to the two little boy's that played the ? of norman and paul they were just brilliant children are often left out of the ? list i think because the stars that play them all grown up are such a big profile for the whole film but these children are amazing and should be praised for what they have done don't you think the whole story was so lovely because it was true and was someone's life after all that was shared with us all\"\n",
    "example_review1='This movie was bad'\n",
    "example_review2='The movie is boring and hard to watch'"
   ]
  },
  {
   "cell_type": "code",
   "execution_count": 217,
   "metadata": {},
   "outputs": [
    {
     "name": "stdout",
     "output_type": "stream",
     "text": [
      "\u001b[1m1/1\u001b[0m \u001b[32m━━━━━━━━━━━━━━━━━━━━\u001b[0m\u001b[37m\u001b[0m \u001b[1m0s\u001b[0m 30ms/step\n",
      "\u001b[1m1/1\u001b[0m \u001b[32m━━━━━━━━━━━━━━━━━━━━\u001b[0m\u001b[37m\u001b[0m \u001b[1m0s\u001b[0m 25ms/step\n",
      "\u001b[1m1/1\u001b[0m \u001b[32m━━━━━━━━━━━━━━━━━━━━\u001b[0m\u001b[37m\u001b[0m \u001b[1m0s\u001b[0m 26ms/step\n"
     ]
    }
   ],
   "source": [
    "sentiment,score=predict_sentiment(example_review)\n",
    "sentiment1,score1=predict_sentiment(example_review1)\n",
    "sentiment2,score2=predict_sentiment(example_review2)"
   ]
  },
  {
   "cell_type": "code",
   "execution_count": 218,
   "metadata": {},
   "outputs": [
    {
     "name": "stdout",
     "output_type": "stream",
     "text": [
      "Review:this film was just brilliant casting location scenery story direction everyone's really suited the part they played and you could just imagine being there robert ? is an amazing actor and now the same being director ? father came from the same scottish island as myself so i loved the fact there was a real connection with this film the witty remarks throughout the film were great it was just brilliant so much that i bought the film as soon as it was released for ? and would recommend it to everyone to watch and the fly fishing was amazing really cried at the end it was so sad and you know what they say if you cry at a film it must have been good and this definitely was also ? to the two little boy's that played the ? of norman and paul they were just brilliant children are often left out of the ? list i think because the stars that play them all grown up are such a big profile for the whole film but these children are amazing and should be praised for what they have done don't you think the whole story was so lovely because it was true and was someone's life after all that was shared with us all\n",
      "Score:0.7698551416397095\n",
      "Sentiment:Positive\n"
     ]
    }
   ],
   "source": [
    "print(f'Review:{example_review}')\n",
    "print(f'Score:{score}')\n",
    "print(f'Sentiment:{sentiment}')"
   ]
  },
  {
   "cell_type": "code",
   "execution_count": 219,
   "metadata": {},
   "outputs": [
    {
     "name": "stdout",
     "output_type": "stream",
     "text": [
      "Review:This movie was bad\n",
      "Score:1.0232844260826823e-06\n",
      "Sentiment:Negative\n"
     ]
    }
   ],
   "source": [
    "print(f'Review:{example_review1}')\n",
    "print(f'Score:{score1}')\n",
    "print(f'Sentiment:{sentiment1}')"
   ]
  },
  {
   "cell_type": "code",
   "execution_count": 220,
   "metadata": {},
   "outputs": [
    {
     "name": "stdout",
     "output_type": "stream",
     "text": [
      "Review:The movie is boring and hard to watch\n",
      "Score:0.00010825655044754967\n",
      "Sentiment:Negative\n"
     ]
    }
   ],
   "source": [
    "print(f'Review:{example_review2}')\n",
    "print(f'Score:{score2}')\n",
    "print(f'Sentiment:{sentiment2}')"
   ]
  },
  {
   "cell_type": "code",
   "execution_count": null,
   "metadata": {},
   "outputs": [],
   "source": [
    "model.predict([X_test[0]])"
   ]
  }
 ],
 "metadata": {
  "kernelspec": {
   "display_name": "tf",
   "language": "python",
   "name": "tf"
  },
  "language_info": {
   "codemirror_mode": {
    "name": "ipython",
    "version": 3
   },
   "file_extension": ".py",
   "mimetype": "text/x-python",
   "name": "python",
   "nbconvert_exporter": "python",
   "pygments_lexer": "ipython3",
   "version": "3.11.7"
  }
 },
 "nbformat": 4,
 "nbformat_minor": 2
}
